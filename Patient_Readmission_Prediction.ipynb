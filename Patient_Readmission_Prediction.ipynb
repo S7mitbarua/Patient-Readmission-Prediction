{
  "nbformat": 4,
  "nbformat_minor": 0,
  "metadata": {
    "colab": {
      "provenance": [],
      "authorship_tag": "ABX9TyPAwt3XJYZehwRM7hCGDnbg",
      "include_colab_link": true
    },
    "kernelspec": {
      "name": "python3",
      "display_name": "Python 3"
    },
    "language_info": {
      "name": "python"
    }
  },
  "cells": [
    {
      "cell_type": "markdown",
      "metadata": {
        "id": "view-in-github",
        "colab_type": "text"
      },
      "source": [
        "<a href=\"https://colab.research.google.com/github/S7mitbarua/Patient-Readmission-Prediction/blob/main/Patient_Readmission_Prediction.ipynb\" target=\"_parent\"><img src=\"https://colab.research.google.com/assets/colab-badge.svg\" alt=\"Open In Colab\"/></a>"
      ]
    },
    {
      "cell_type": "code",
      "source": [
        "!pip install scikit-learn\n",
        "!pip install faker"
      ],
      "metadata": {
        "colab": {
          "base_uri": "https://localhost:8080/"
        },
        "id": "Aqan1jqfwgfA",
        "outputId": "9923a069-5e40-4ef0-ba10-a1328c9e87de"
      },
      "execution_count": 21,
      "outputs": [
        {
          "output_type": "stream",
          "name": "stdout",
          "text": [
            "Requirement already satisfied: scikit-learn in /usr/local/lib/python3.10/dist-packages (1.2.2)\n",
            "Requirement already satisfied: numpy>=1.17.3 in /usr/local/lib/python3.10/dist-packages (from scikit-learn) (1.23.5)\n",
            "Requirement already satisfied: scipy>=1.3.2 in /usr/local/lib/python3.10/dist-packages (from scikit-learn) (1.11.4)\n",
            "Requirement already satisfied: joblib>=1.1.1 in /usr/local/lib/python3.10/dist-packages (from scikit-learn) (1.3.2)\n",
            "Requirement already satisfied: threadpoolctl>=2.0.0 in /usr/local/lib/python3.10/dist-packages (from scikit-learn) (3.2.0)\n",
            "Requirement already satisfied: faker in /usr/local/lib/python3.10/dist-packages (22.0.0)\n",
            "Requirement already satisfied: python-dateutil>=2.4 in /usr/local/lib/python3.10/dist-packages (from faker) (2.8.2)\n",
            "Requirement already satisfied: six>=1.5 in /usr/local/lib/python3.10/dist-packages (from python-dateutil>=2.4->faker) (1.16.0)\n"
          ]
        }
      ]
    },
    {
      "cell_type": "code",
      "source": [
        "import numpy as np\n",
        "import pandas as pd\n",
        "from faker import Faker\n",
        "from sklearn.model_selection import train_test_split\n",
        "from sklearn.ensemble import RandomForestClassifier\n",
        "from sklearn.metrics import accuracy_score, classification_report, confusion_matrix"
      ],
      "metadata": {
        "id": "AZYRGF7cwne5"
      },
      "execution_count": 22,
      "outputs": []
    },
    {
      "cell_type": "code",
      "source": [
        "# Set seed for reproducibility\n",
        "np.random.seed(42)\n",
        "\n",
        "# Generate simulated patient data\n",
        "fake = Faker()\n",
        "num_patients = 1000\n",
        "\n",
        "data = {\n",
        "    'Age': [fake.random_int(min=18, max=90) for _ in range(num_patients)],\n",
        "    'Gender': [fake.random_element(elements=('Male', 'Female')) for _ in range(num_patients)],\n",
        "    'BloodPressure': [fake.random_int(min=80, max=180) for _ in range(num_patients)],\n",
        "    'Cholesterol': [fake.random_element(elements=('Normal', 'High', 'Very High')) for _ in range(num_patients)],\n",
        "    'Diabetes': [fake.random_element(elements=(0, 1)) for _ in range(num_patients)],\n",
        "    'Smoker': [fake.random_element(elements=(0, 1)) for _ in range(num_patients)],\n",
        "    'Readmission': [fake.random_element(elements=(0, 1)) for _ in range(num_patients)]\n",
        "}\n",
        "\n",
        "df = pd.DataFrame(data)\n",
        "\n",
        "# Convert categorical variables to dummy/indicator variables\n",
        "df = pd.get_dummies(df, columns=['Gender', 'Cholesterol'])\n",
        "\n",
        "# Split the data into features (X) and target variable (y)\n",
        "X = df.drop('Readmission', axis=1)\n",
        "y = df['Readmission']\n",
        "\n",
        "# Split the data into training and testing sets\n",
        "X_train, X_test, y_train, y_test = train_test_split(X, y, test_size=0.2, random_state=42)\n",
        "\n",
        "# Build a RandomForestClassifier model\n",
        "model = RandomForestClassifier(random_state=42)\n",
        "model.fit(X_train, y_train)\n",
        "\n",
        "# Make predictions on the test set\n",
        "y_pred = model.predict(X_test)\n",
        "\n",
        "# Evaluate the model\n",
        "accuracy = accuracy_score(y_test, y_pred)\n",
        "conf_matrix = confusion_matrix(y_test, y_pred)\n",
        "class_report = classification_report(y_test, y_pred)\n",
        "\n",
        "print(f'Accuracy: {accuracy:.2f}')\n",
        "print(f'Confusion Matrix:\\n{conf_matrix}')\n",
        "print(f'Classification Report:\\n{class_report}')"
      ],
      "metadata": {
        "colab": {
          "base_uri": "https://localhost:8080/"
        },
        "id": "5tR2yDJqwohb",
        "outputId": "8e2ca28b-b6a2-4aa6-fac2-cdb8def1c50d"
      },
      "execution_count": 23,
      "outputs": [
        {
          "output_type": "stream",
          "name": "stdout",
          "text": [
            "Accuracy: 0.52\n",
            "Confusion Matrix:\n",
            "[[57 49]\n",
            " [47 47]]\n",
            "Classification Report:\n",
            "              precision    recall  f1-score   support\n",
            "\n",
            "           0       0.55      0.54      0.54       106\n",
            "           1       0.49      0.50      0.49        94\n",
            "\n",
            "    accuracy                           0.52       200\n",
            "   macro avg       0.52      0.52      0.52       200\n",
            "weighted avg       0.52      0.52      0.52       200\n",
            "\n"
          ]
        }
      ]
    }
  ]
}